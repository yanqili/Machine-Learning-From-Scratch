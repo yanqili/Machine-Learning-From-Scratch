{
 "cells": [
  {
   "cell_type": "markdown",
   "metadata": {},
   "source": [
    "# Decision Tree"
   ]
  },
  {
   "cell_type": "markdown",
   "metadata": {},
   "source": [
    ">参考：\n",
    "\n",
    ">1、GBDT的python源码实现 \n",
    "https://zhuanlan.zhihu.com/p/32181306\n",
    "\n",
    ">2、Machine-Learning-From-Scratch 1的作者的github https://github.com/RRdmlearning/Machine-Learning-From-Scratch\n",
    "\n",
    ">3、Machine Learning From Scratch 1的作者参考的github https://github.com/eriklindernoren/ML-From-Scratch\n",
    "\n",
    ">4、Machine learning algorithms 1的作者参考的github https://github.com/rushter/MLAlgorithms"
   ]
  },
  {
   "cell_type": "markdown",
   "metadata": {},
   "source": [
    " - 建立树节点类：二叉树节点，分割点、左右子节点、节点值\n",
    "\n",
    " - 建立决策树基类：因为不管回归树还是分类树，都是递归的建立树，根据一个标准找分割点，根据一个算法得到节点值\n",
    "\n",
    " - 建立分类树类：找分割点，用GINI系数或者熵；叶子节点，投票。和损失函数没有关系，可以做多分类，叶子节点的值是类别，不是数值\n",
    " \n",
    " - 建立回归树类：找分割点，分割前方差-（分割后左方差+分割后右方差），这个和损失函数选MSE时，相一致，这种分法，可以使loss降低。叶子节点的值，均值，也是和损失函数选MSE相一致，求导可知，均值可以使当前节点上样本loss最低。"
   ]
  },
  {
   "cell_type": "markdown",
   "metadata": {},
   "source": [
    "Input X、y can be list or array, both ok."
   ]
  },
  {
   "cell_type": "markdown",
   "metadata": {
    "collapsed": true
   },
   "source": [
    "## 1.Classification"
   ]
  },
  {
   "cell_type": "code",
   "execution_count": 1,
   "metadata": {
    "collapsed": true
   },
   "outputs": [],
   "source": [
    "from decision_tree_model import ClassificationTree\n",
    "import numpy as np"
   ]
  },
  {
   "cell_type": "code",
   "execution_count": 2,
   "metadata": {},
   "outputs": [],
   "source": [
    "X = np.array([[0, 0], [1, 1]])\n",
    "Y = np.array([0, 1])\n",
    "clf = ClassificationTree(max_depth=6)\n",
    "clf.fit(X, Y)"
   ]
  },
  {
   "cell_type": "code",
   "execution_count": 5,
   "metadata": {},
   "outputs": [
    {
     "data": {
      "text/plain": [
       "[0]"
      ]
     },
     "execution_count": 5,
     "metadata": {},
     "output_type": "execute_result"
    }
   ],
   "source": [
    "clf.predict([[1., 2.]])"
   ]
  },
  {
   "cell_type": "code",
   "execution_count": 6,
   "metadata": {},
   "outputs": [
    {
     "name": "stdout",
     "output_type": "stream",
     "text": [
      "0:0? \n",
      " T->0\n",
      " F->1\n"
     ]
    }
   ],
   "source": [
    "clf.print_tree()"
   ]
  },
  {
   "cell_type": "code",
   "execution_count": 7,
   "metadata": {
    "collapsed": true
   },
   "outputs": [],
   "source": [
    "from sklearn.datasets import load_iris\n",
    "iris = load_iris()\n",
    "clf = ClassificationTree(max_depth=1)\n",
    "clf.fit(iris.data, iris.target)"
   ]
  },
  {
   "cell_type": "code",
   "execution_count": 8,
   "metadata": {},
   "outputs": [
    {
     "name": "stdout",
     "output_type": "stream",
     "text": [
      "2:3.0? \n",
      " T->3:1.8? \n",
      "  T->2.0\n",
      "  F->1.0\n",
      " F->0.0\n"
     ]
    }
   ],
   "source": [
    "clf.print_tree()"
   ]
  },
  {
   "cell_type": "code",
   "execution_count": 7,
   "metadata": {},
   "outputs": [
    {
     "data": {
      "text/plain": [
       "[1.0, 1.0, 1.0, 1.0, 1.0, 1.0, 1.0, 1.0, 1.0, 1.0]"
      ]
     },
     "execution_count": 7,
     "metadata": {},
     "output_type": "execute_result"
    }
   ],
   "source": [
    "clf.predict(iris.data[60:70])"
   ]
  },
  {
   "cell_type": "code",
   "execution_count": 8,
   "metadata": {},
   "outputs": [
    {
     "data": {
      "text/plain": [
       "array([1, 1, 1, 1, 1, 1, 1, 1, 1, 1])"
      ]
     },
     "execution_count": 8,
     "metadata": {},
     "output_type": "execute_result"
    }
   ],
   "source": [
    "iris.target[60:70]"
   ]
  },
  {
   "cell_type": "markdown",
   "metadata": {},
   "source": [
    "## 2.Regression"
   ]
  },
  {
   "cell_type": "code",
   "execution_count": 1,
   "metadata": {
    "collapsed": true
   },
   "outputs": [],
   "source": [
    "from decision_tree_model import RegressionTree"
   ]
  },
  {
   "cell_type": "code",
   "execution_count": 4,
   "metadata": {},
   "outputs": [
    {
     "data": {
      "text/plain": [
       "[2.5]"
      ]
     },
     "execution_count": 4,
     "metadata": {},
     "output_type": "execute_result"
    }
   ],
   "source": [
    "X = [[0, 0], [2, 2]]\n",
    "y = [8, 2.5]\n",
    "clf = RegressionTree()\n",
    "clf.fit(X, y)\n",
    "clf.predict([1, 1])"
   ]
  },
  {
   "cell_type": "code",
   "execution_count": 5,
   "metadata": {},
   "outputs": [
    {
     "name": "stdout",
     "output_type": "stream",
     "text": [
      "0:0? \n",
      " T->8.0\n",
      " F->2.5\n"
     ]
    }
   ],
   "source": [
    "clf.print_tree()"
   ]
  },
  {
   "cell_type": "code",
   "execution_count": null,
   "metadata": {
    "collapsed": true
   },
   "outputs": [],
   "source": []
  }
 ],
 "metadata": {
  "kernelspec": {
   "display_name": "Python 3.6.1 64-bit ('root': conda)",
   "language": "python",
   "name": "python36164bitrootconda03435e8a847c43f1836436f67ff0e288"
  },
  "language_info": {
   "codemirror_mode": {
    "name": "ipython",
    "version": 3
   },
   "file_extension": ".py",
   "mimetype": "text/x-python",
   "name": "python",
   "nbconvert_exporter": "python",
   "pygments_lexer": "ipython3",
   "version": "3.6.1"
  }
 },
 "nbformat": 4,
 "nbformat_minor": 2
}
